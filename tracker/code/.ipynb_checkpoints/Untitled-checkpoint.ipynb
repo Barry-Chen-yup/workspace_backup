{
 "cells": [
  {
   "cell_type": "code",
   "execution_count": 2,
   "id": "d9efacfb-d98a-457f-96ad-7660ed435d10",
   "metadata": {
    "ExecuteTime": {
     "end_time": "2022-02-10T03:49:46.750213Z",
     "start_time": "2022-02-10T03:49:42.310702Z"
    }
   },
   "outputs": [
    {
     "name": "stdout",
     "output_type": "stream",
     "text": [
      "return number 256\n"
     ]
    }
   ],
   "source": [
    "from sort import *\n",
    "import numpy as np\n",
    "import argparse\n",
    "import imutils\n",
    "import time\n",
    "import cv2\n",
    "import os\n",
    "import glob\n",
    "import datetime\n",
    "import csv\n",
    "import json\n",
    "import matplotlib.pyplot as plt\n",
    "from sklearn.neighbors import NearestNeighbors\n",
    "import math\n",
    "import re\n",
    "a=float('inf') - float('inf')\n",
    "b=0\n",
    "move_avg = 1;move_std = 2;nni_avg = 3;nni_std = 4\n",
    "\n",
    "if math.isnan(a)==True:a=0\n",
    "a\n",
    "cmd = \"python3 /workspace/tracker/code/track_chicken_date_gpu.py '/workspace/nas-data/Animal/chicken_video/'$(date -d 'yesterday' +%Y%m%d)\"\n",
    "os.setuid(1000)\n",
    "ret = os.system(cmd)\n",
    "print('return number',ret)"
   ]
  },
  {
   "cell_type": "code",
   "execution_count": 157,
   "id": "daeba842-6946-48b2-bfc3-02c043c9044e",
   "metadata": {},
   "outputs": [
    {
     "name": "stdout",
     "output_type": "stream",
     "text": [
      "First Connect success!\n",
      "2021-11-04 17:56:11\n"
     ]
    },
    {
     "data": {
      "text/plain": [
       "('2021-11-04 05:50:00', '2021-11-04 17:56:11', 0, 10, 0, '2021-11-04 17:56:11')"
      ]
     },
     "execution_count": 157,
     "metadata": {},
     "output_type": "execute_result"
    }
   ],
   "source": [
    "import os, sys\n",
    "import pymysql\n",
    "from pymysql.converters import escape_string\n",
    "import pandas as pd\n",
    "from datetime import datetime, date, timedelta\n",
    "import MySQLdb\n",
    "\n",
    "\n",
    "pd.set_option('expand_frame_repr', False)\n",
    "pd.set_option('display.max_columns', None)\n",
    "#pd.set_option('display.max_rows', None)\n",
    "pd.set_option('colheader_justify', 'centre')\n",
    "\n",
    "\n",
    "pymysql = MySQLdb.connect(host='top-view-database.barrysmall-personal', user='chicken', password='chicken_mysql', db='chicken_chart')\n",
    "cur = conn.cursor()\n",
    "try:\n",
    "    conn.ping()\n",
    "    print('First Connect success!')\n",
    "except:\n",
    "    print('First Connect fail!')\n",
    "    conn = pymysql.connect(host='top-view-database.barrysmall-personal', user='chicken', password='chicken_mysql', db='chicken_chart')\n",
    "    cur = conn.cursor()\n",
    "    print('First Connect success!')\n",
    "rpi_name = re.search(r\"\\d+(\\.\\d+)?\", 'rpi10')\n",
    "print('%s'% str(base_time))\n",
    "str(fake_time),str(base_time),int(rpi[-1]), int(rpi_name.group(0)),int(rpi[-1]),str(base_time)"
   ]
  },
  {
   "cell_type": "code",
   "execution_count": 159,
   "id": "194baa6b-7ae4-4783-bf82-1817620faebb",
   "metadata": {},
   "outputs": [
    {
     "name": "stdout",
     "output_type": "stream",
     "text": [
      "rpi5\n",
      "rpi7\n",
      "rpi9\n",
      "rpi10\n",
      "2nd Connect success!\n",
      "21221 INSERT INTO data(id,time,movement_avg,movement_std,NNI_avg,NNI_std) VALUES(10, %s, 0, 0, 0, 0)\n",
      "3rd Connect fail!\n",
      "3rd Connect success!\n",
      "video INSERT INTO data(id,time,movement_avg,movement_std,NNI_avg,NNI_std) VALUES(10,%s,1,2,3,4)\n",
      "3rd Connect success!11\n",
      "video INSERT INTO data(id,time,movement_avg,movement_std,NNI_avg,NNI_std) VALUES(10,%s,1,2,3,4)\n",
      "3rd Connect success!11\n",
      "video INSERT INTO data(id,time,movement_avg,movement_std,NNI_avg,NNI_std) VALUES(10,%s,1,2,3,4)\n",
      "3rd Connect success!11\n",
      "video INSERT INTO data(id,time,movement_avg,movement_std,NNI_avg,NNI_std) VALUES(10,%s,1,2,3,4)\n",
      "3rd Connect success!11\n",
      "video INSERT INTO data(id,time,movement_avg,movement_std,NNI_avg,NNI_std) VALUES(10,%s,1,2,3,4)\n",
      "3rd Connect success!11\n",
      "video INSERT INTO data(id,time,movement_avg,movement_std,NNI_avg,NNI_std) VALUES(10,%s,1,2,3,4)\n",
      "3rd Connect success!11\n",
      "video INSERT INTO data(id,time,movement_avg,movement_std,NNI_avg,NNI_std) VALUES(10,%s,1,2,3,4)\n",
      "3rd Connect success!11\n",
      "video INSERT INTO data(id,time,movement_avg,movement_std,NNI_avg,NNI_std) VALUES(10,%s,1,2,3,4)\n",
      "3rd Connect success!11\n",
      "video INSERT INTO data(id,time,movement_avg,movement_std,NNI_avg,NNI_std) VALUES(10,%s,1,2,3,4)\n",
      "3rd Connect success!11\n",
      "video INSERT INTO data(id,time,movement_avg,movement_std,NNI_avg,NNI_std) VALUES(10,%s,1,2,3,4)\n",
      "3rd Connect success!11\n",
      "video INSERT INTO data(id,time,movement_avg,movement_std,NNI_avg,NNI_std) VALUES(10,%s,1,2,3,4)\n",
      "3rd Connect success!11\n",
      "video INSERT INTO data(id,time,movement_avg,movement_std,NNI_avg,NNI_std) VALUES(10,%s,1,2,3,4)\n",
      "3rd Connect success!11\n",
      "video INSERT INTO data(id,time,movement_avg,movement_std,NNI_avg,NNI_std) VALUES(10,%s,1,2,3,4)\n",
      "3rd Connect success!11\n",
      "video INSERT INTO data(id,time,movement_avg,movement_std,NNI_avg,NNI_std) VALUES(10,%s,1,2,3,4)\n",
      "3rd Connect success!11\n",
      "video INSERT INTO data(id,time,movement_avg,movement_std,NNI_avg,NNI_std) VALUES(10,%s,1,2,3,4)\n",
      "3rd Connect success!11\n",
      "video INSERT INTO data(id,time,movement_avg,movement_std,NNI_avg,NNI_std) VALUES(10,%s,1,2,3,4)\n",
      "3rd Connect success!11\n",
      "video INSERT INTO data(id,time,movement_avg,movement_std,NNI_avg,NNI_std) VALUES(10,%s,1,2,3,4)\n",
      "3rd Connect success!11\n",
      "video INSERT INTO data(id,time,movement_avg,movement_std,NNI_avg,NNI_std) VALUES(10,%s,1,2,3,4)\n",
      "3rd Connect success!11\n",
      "video INSERT INTO data(id,time,movement_avg,movement_std,NNI_avg,NNI_std) VALUES(10,%s,1,2,3,4)\n",
      "3rd Connect success!11\n",
      "video INSERT INTO data(id,time,movement_avg,movement_std,NNI_avg,NNI_std) VALUES(10,%s,1,2,3,4)\n",
      "3rd Connect success!11\n",
      "video INSERT INTO data(id,time,movement_avg,movement_std,NNI_avg,NNI_std) VALUES(10,%s,1,2,3,4)\n",
      "3rd Connect success!11\n",
      "video INSERT INTO data(id,time,movement_avg,movement_std,NNI_avg,NNI_std) VALUES(10,%s,1,2,3,4)\n",
      "3rd Connect success!11\n",
      "video INSERT INTO data(id,time,movement_avg,movement_std,NNI_avg,NNI_std) VALUES(10,%s,1,2,3,4)\n",
      "3rd Connect success!11\n",
      "video INSERT INTO data(id,time,movement_avg,movement_std,NNI_avg,NNI_std) VALUES(10,%s,1,2,3,4)\n",
      "3rd Connect success!11\n",
      "video INSERT INTO data(id,time,movement_avg,movement_std,NNI_avg,NNI_std) VALUES(10,%s,1,2,3,4)\n",
      "3rd Connect success!11\n",
      "video INSERT INTO data(id,time,movement_avg,movement_std,NNI_avg,NNI_std) VALUES(10,%s,1,2,3,4)\n",
      "3rd Connect success!11\n",
      "video INSERT INTO data(id,time,movement_avg,movement_std,NNI_avg,NNI_std) VALUES(10,%s,1,2,3,4)\n",
      "3rd Connect success!11\n",
      "video INSERT INTO data(id,time,movement_avg,movement_std,NNI_avg,NNI_std) VALUES(10,%s,1,2,3,4)\n",
      "3rd Connect success!11\n",
      "video INSERT INTO data(id,time,movement_avg,movement_std,NNI_avg,NNI_std) VALUES(10,%s,1,2,3,4)\n",
      "3rd Connect success!11\n",
      "video INSERT INTO data(id,time,movement_avg,movement_std,NNI_avg,NNI_std) VALUES(10,%s,1,2,3,4)\n",
      "3rd Connect success!11\n",
      "video INSERT INTO data(id,time,movement_avg,movement_std,NNI_avg,NNI_std) VALUES(10,%s,1,2,3,4)\n",
      "3rd Connect success!11\n",
      "video INSERT INTO data(id,time,movement_avg,movement_std,NNI_avg,NNI_std) VALUES(10,%s,1,2,3,4)\n",
      "3rd Connect success!11\n",
      "video INSERT INTO data(id,time,movement_avg,movement_std,NNI_avg,NNI_std) VALUES(10,%s,1,2,3,4)\n",
      "3rd Connect success!11\n",
      "video INSERT INTO data(id,time,movement_avg,movement_std,NNI_avg,NNI_std) VALUES(10,%s,1,2,3,4)\n",
      "3rd Connect success!11\n",
      "video INSERT INTO data(id,time,movement_avg,movement_std,NNI_avg,NNI_std) VALUES(10,%s,1,2,3,4)\n",
      "3rd Connect success!11\n",
      "video INSERT INTO data(id,time,movement_avg,movement_std,NNI_avg,NNI_std) VALUES(10,%s,1,2,3,4)\n",
      "3rd Connect success!11\n",
      "video INSERT INTO data(id,time,movement_avg,movement_std,NNI_avg,NNI_std) VALUES(10,%s,1,2,3,4)\n",
      "3rd Connect success!11\n",
      "video INSERT INTO data(id,time,movement_avg,movement_std,NNI_avg,NNI_std) VALUES(10,%s,1,2,3,4)\n",
      "3rd Connect success!11\n",
      "video INSERT INTO data(id,time,movement_avg,movement_std,NNI_avg,NNI_std) VALUES(10,%s,1,2,3,4)\n",
      "3rd Connect success!11\n",
      "video INSERT INTO data(id,time,movement_avg,movement_std,NNI_avg,NNI_std) VALUES(10,%s,1,2,3,4)\n",
      "3rd Connect success!11\n",
      "video INSERT INTO data(id,time,movement_avg,movement_std,NNI_avg,NNI_std) VALUES(10,%s,1,2,3,4)\n",
      "3rd Connect success!11\n",
      "video INSERT INTO data(id,time,movement_avg,movement_std,NNI_avg,NNI_std) VALUES(10,%s,1,2,3,4)\n",
      "3rd Connect success!11\n",
      "video INSERT INTO data(id,time,movement_avg,movement_std,NNI_avg,NNI_std) VALUES(10,%s,1,2,3,4)\n",
      "3rd Connect success!11\n",
      "video INSERT INTO data(id,time,movement_avg,movement_std,NNI_avg,NNI_std) VALUES(10,%s,1,2,3,4)\n",
      "3rd Connect success!11\n",
      "video INSERT INTO data(id,time,movement_avg,movement_std,NNI_avg,NNI_std) VALUES(10,%s,1,2,3,4)\n",
      "3rd Connect success!11\n",
      "video INSERT INTO data(id,time,movement_avg,movement_std,NNI_avg,NNI_std) VALUES(10,%s,1,2,3,4)\n",
      "3rd Connect success!11\n",
      "video INSERT INTO data(id,time,movement_avg,movement_std,NNI_avg,NNI_std) VALUES(10,%s,1,2,3,4)\n",
      "3rd Connect success!11\n",
      "video INSERT INTO data(id,time,movement_avg,movement_std,NNI_avg,NNI_std) VALUES(10,%s,1,2,3,4)\n",
      "3rd Connect success!11\n",
      "video INSERT INTO data(id,time,movement_avg,movement_std,NNI_avg,NNI_std) VALUES(10,%s,1,2,3,4)\n",
      "3rd Connect success!11\n",
      "video INSERT INTO data(id,time,movement_avg,movement_std,NNI_avg,NNI_std) VALUES(10,%s,1,2,3,4)\n",
      "3rd Connect success!11\n",
      "video INSERT INTO data(id,time,movement_avg,movement_std,NNI_avg,NNI_std) VALUES(10,%s,1,2,3,4)\n",
      "3rd Connect success!11\n",
      "video INSERT INTO data(id,time,movement_avg,movement_std,NNI_avg,NNI_std) VALUES(10,%s,1,2,3,4)\n",
      "3rd Connect success!11\n",
      "video INSERT INTO data(id,time,movement_avg,movement_std,NNI_avg,NNI_std) VALUES(10,%s,1,2,3,4)\n",
      "3rd Connect success!11\n",
      "video INSERT INTO data(id,time,movement_avg,movement_std,NNI_avg,NNI_std) VALUES(10,%s,1,2,3,4)\n",
      "3rd Connect success!11\n",
      "video INSERT INTO data(id,time,movement_avg,movement_std,NNI_avg,NNI_std) VALUES(10,%s,1,2,3,4)\n",
      "3rd Connect success!11\n",
      "video INSERT INTO data(id,time,movement_avg,movement_std,NNI_avg,NNI_std) VALUES(10,%s,1,2,3,4)\n",
      "3rd Connect success!11\n",
      "video INSERT INTO data(id,time,movement_avg,movement_std,NNI_avg,NNI_std) VALUES(10,%s,1,2,3,4)\n",
      "3rd Connect success!11\n",
      "video INSERT INTO data(id,time,movement_avg,movement_std,NNI_avg,NNI_std) VALUES(10,%s,1,2,3,4)\n",
      "3rd Connect success!11\n",
      "video INSERT INTO data(id,time,movement_avg,movement_std,NNI_avg,NNI_std) VALUES(10,%s,1,2,3,4)\n",
      "3rd Connect success!11\n",
      "video INSERT INTO data(id,time,movement_avg,movement_std,NNI_avg,NNI_std) VALUES(10,%s,1,2,3,4)\n",
      "3rd Connect success!11\n",
      "video INSERT INTO data(id,time,movement_avg,movement_std,NNI_avg,NNI_std) VALUES(10,%s,1,2,3,4)\n",
      "3rd Connect success!11\n",
      "video INSERT INTO data(id,time,movement_avg,movement_std,NNI_avg,NNI_std) VALUES(10,%s,1,2,3,4)\n",
      "3rd Connect success!11\n",
      "video INSERT INTO data(id,time,movement_avg,movement_std,NNI_avg,NNI_std) VALUES(10,%s,1,2,3,4)\n",
      "3rd Connect success!11\n",
      "video INSERT INTO data(id,time,movement_avg,movement_std,NNI_avg,NNI_std) VALUES(10,%s,1,2,3,4)\n",
      "3rd Connect success!11\n",
      "video INSERT INTO data(id,time,movement_avg,movement_std,NNI_avg,NNI_std) VALUES(10,%s,1,2,3,4)\n",
      "3rd Connect success!11\n",
      "video INSERT INTO data(id,time,movement_avg,movement_std,NNI_avg,NNI_std) VALUES(10,%s,1,2,3,4)\n",
      "3rd Connect success!11\n",
      "video INSERT INTO data(id,time,movement_avg,movement_std,NNI_avg,NNI_std) VALUES(10,%s,1,2,3,4)\n",
      "3rd Connect success!11\n",
      "video INSERT INTO data(id,time,movement_avg,movement_std,NNI_avg,NNI_std) VALUES(10,%s,1,2,3,4)\n",
      "3rd Connect success!11\n",
      "video INSERT INTO data(id,time,movement_avg,movement_std,NNI_avg,NNI_std) VALUES(10,%s,1,2,3,4)\n",
      "3rd Connect success!11\n",
      "video INSERT INTO data(id,time,movement_avg,movement_std,NNI_avg,NNI_std) VALUES(10,%s,1,2,3,4)\n",
      "3rd Connect success!11\n",
      "video INSERT INTO data(id,time,movement_avg,movement_std,NNI_avg,NNI_std) VALUES(10,%s,1,2,3,4)\n",
      "3rd Connect success!11\n",
      "video INSERT INTO data(id,time,movement_avg,movement_std,NNI_avg,NNI_std) VALUES(10,%s,1,2,3,4)\n",
      "3rd Connect success!11\n",
      "video INSERT INTO data(id,time,movement_avg,movement_std,NNI_avg,NNI_std) VALUES(10,%s,1,2,3,4)\n",
      "3rd Connect success!11\n",
      "video INSERT INTO data(id,time,movement_avg,movement_std,NNI_avg,NNI_std) VALUES(10,%s,1,2,3,4)\n",
      "3rd Connect success!11\n",
      "video INSERT INTO data(id,time,movement_avg,movement_std,NNI_avg,NNI_std) VALUES(10,%s,1,2,3,4)\n",
      "3rd Connect success!11\n",
      "video INSERT INTO data(id,time,movement_avg,movement_std,NNI_avg,NNI_std) VALUES(10,%s,1,2,3,4)\n",
      "3rd Connect success!11\n",
      "video INSERT INTO data(id,time,movement_avg,movement_std,NNI_avg,NNI_std) VALUES(10,%s,1,2,3,4)\n",
      "3rd Connect success!11\n",
      "video INSERT INTO data(id,time,movement_avg,movement_std,NNI_avg,NNI_std) VALUES(10,%s,1,2,3,4)\n",
      "3rd Connect success!11\n",
      "video INSERT INTO data(id,time,movement_avg,movement_std,NNI_avg,NNI_std) VALUES(10,%s,1,2,3,4)\n",
      "3rd Connect success!11\n",
      "video INSERT INTO data(id,time,movement_avg,movement_std,NNI_avg,NNI_std) VALUES(10,%s,1,2,3,4)\n",
      "3rd Connect success!11\n",
      "video INSERT INTO data(id,time,movement_avg,movement_std,NNI_avg,NNI_std) VALUES(10,%s,1,2,3,4)\n",
      "3rd Connect success!11\n",
      "video INSERT INTO data(id,time,movement_avg,movement_std,NNI_avg,NNI_std) VALUES(10,%s,1,2,3,4)\n",
      "3rd Connect success!11\n",
      "video INSERT INTO data(id,time,movement_avg,movement_std,NNI_avg,NNI_std) VALUES(10,%s,1,2,3,4)\n",
      "3rd Connect success!11\n",
      "video INSERT INTO data(id,time,movement_avg,movement_std,NNI_avg,NNI_std) VALUES(10,%s,1,2,3,4)\n",
      "3rd Connect success!11\n",
      "video INSERT INTO data(id,time,movement_avg,movement_std,NNI_avg,NNI_std) VALUES(10,%s,1,2,3,4)\n",
      "3rd Connect success!11\n",
      "video INSERT INTO data(id,time,movement_avg,movement_std,NNI_avg,NNI_std) VALUES(10,%s,1,2,3,4)\n",
      "3rd Connect success!11\n",
      "video INSERT INTO data(id,time,movement_avg,movement_std,NNI_avg,NNI_std) VALUES(10,%s,1,2,3,4)\n",
      "3rd Connect success!11\n",
      "video INSERT INTO data(id,time,movement_avg,movement_std,NNI_avg,NNI_std) VALUES(10,%s,1,2,3,4)\n",
      "3rd Connect success!11\n",
      "video INSERT INTO data(id,time,movement_avg,movement_std,NNI_avg,NNI_std) VALUES(10,%s,1,2,3,4)\n",
      "3rd Connect success!11\n",
      "video INSERT INTO data(id,time,movement_avg,movement_std,NNI_avg,NNI_std) VALUES(10,%s,1,2,3,4)\n",
      "3rd Connect success!11\n",
      "video INSERT INTO data(id,time,movement_avg,movement_std,NNI_avg,NNI_std) VALUES(10,%s,1,2,3,4)\n",
      "3rd Connect success!11\n",
      "video INSERT INTO data(id,time,movement_avg,movement_std,NNI_avg,NNI_std) VALUES(10,%s,1,2,3,4)\n",
      "3rd Connect success!11\n",
      "video INSERT INTO data(id,time,movement_avg,movement_std,NNI_avg,NNI_std) VALUES(10,%s,1,2,3,4)\n",
      "3rd Connect success!11\n",
      "video INSERT INTO data(id,time,movement_avg,movement_std,NNI_avg,NNI_std) VALUES(10,%s,1,2,3,4)\n",
      "3rd Connect success!11\n",
      "video INSERT INTO data(id,time,movement_avg,movement_std,NNI_avg,NNI_std) VALUES(10,%s,1,2,3,4)\n",
      "3rd Connect success!11\n",
      "video INSERT INTO data(id,time,movement_avg,movement_std,NNI_avg,NNI_std) VALUES(10,%s,1,2,3,4)\n",
      "3rd Connect success!11\n",
      "video INSERT INTO data(id,time,movement_avg,movement_std,NNI_avg,NNI_std) VALUES(10,%s,1,2,3,4)\n",
      "3rd Connect success!11\n",
      "video INSERT INTO data(id,time,movement_avg,movement_std,NNI_avg,NNI_std) VALUES(10,%s,1,2,3,4)\n",
      "3rd Connect success!11\n",
      "video INSERT INTO data(id,time,movement_avg,movement_std,NNI_avg,NNI_std) VALUES(10,%s,1,2,3,4)\n",
      "3rd Connect success!11\n",
      "video INSERT INTO data(id,time,movement_avg,movement_std,NNI_avg,NNI_std) VALUES(10,%s,1,2,3,4)\n",
      "3rd Connect success!11\n",
      "video INSERT INTO data(id,time,movement_avg,movement_std,NNI_avg,NNI_std) VALUES(10,%s,1,2,3,4)\n",
      "3rd Connect success!11\n",
      "video INSERT INTO data(id,time,movement_avg,movement_std,NNI_avg,NNI_std) VALUES(10,%s,1,2,3,4)\n",
      "3rd Connect success!11\n",
      "video INSERT INTO data(id,time,movement_avg,movement_std,NNI_avg,NNI_std) VALUES(10,%s,1,2,3,4)\n",
      "3rd Connect success!11\n",
      "video INSERT INTO data(id,time,movement_avg,movement_std,NNI_avg,NNI_std) VALUES(10,%s,1,2,3,4)\n",
      "3rd Connect success!11\n",
      "video INSERT INTO data(id,time,movement_avg,movement_std,NNI_avg,NNI_std) VALUES(10,%s,1,2,3,4)\n",
      "3rd Connect success!11\n",
      "video INSERT INTO data(id,time,movement_avg,movement_std,NNI_avg,NNI_std) VALUES(10,%s,1,2,3,4)\n",
      "3rd Connect success!11\n",
      "video INSERT INTO data(id,time,movement_avg,movement_std,NNI_avg,NNI_std) VALUES(10,%s,1,2,3,4)\n",
      "3rd Connect success!11\n",
      "video INSERT INTO data(id,time,movement_avg,movement_std,NNI_avg,NNI_std) VALUES(10,%s,1,2,3,4)\n",
      "3rd Connect success!11\n",
      "video INSERT INTO data(id,time,movement_avg,movement_std,NNI_avg,NNI_std) VALUES(10,%s,1,2,3,4)\n",
      "3rd Connect success!11\n",
      "video INSERT INTO data(id,time,movement_avg,movement_std,NNI_avg,NNI_std) VALUES(10,%s,1,2,3,4)\n",
      "3rd Connect success!11\n",
      "video INSERT INTO data(id,time,movement_avg,movement_std,NNI_avg,NNI_std) VALUES(10,%s,1,2,3,4)\n",
      "3rd Connect success!11\n",
      "video INSERT INTO data(id,time,movement_avg,movement_std,NNI_avg,NNI_std) VALUES(10,%s,1,2,3,4)\n",
      "3rd Connect success!11\n",
      "video INSERT INTO data(id,time,movement_avg,movement_std,NNI_avg,NNI_std) VALUES(10,%s,1,2,3,4)\n",
      "3rd Connect success!11\n",
      "video INSERT INTO data(id,time,movement_avg,movement_std,NNI_avg,NNI_std) VALUES(10,%s,1,2,3,4)\n",
      "3rd Connect success!11\n",
      "video INSERT INTO data(id,time,movement_avg,movement_std,NNI_avg,NNI_std) VALUES(10,%s,1,2,3,4)\n",
      "3rd Connect success!11\n",
      "video INSERT INTO data(id,time,movement_avg,movement_std,NNI_avg,NNI_std) VALUES(10,%s,1,2,3,4)\n",
      "3rd Connect success!11\n",
      "video INSERT INTO data(id,time,movement_avg,movement_std,NNI_avg,NNI_std) VALUES(10,%s,1,2,3,4)\n",
      "3rd Connect success!11\n",
      "video INSERT INTO data(id,time,movement_avg,movement_std,NNI_avg,NNI_std) VALUES(10,%s,1,2,3,4)\n",
      "3rd Connect success!11\n",
      "video INSERT INTO data(id,time,movement_avg,movement_std,NNI_avg,NNI_std) VALUES(10,%s,1,2,3,4)\n",
      "3rd Connect success!11\n",
      "video INSERT INTO data(id,time,movement_avg,movement_std,NNI_avg,NNI_std) VALUES(10,%s,1,2,3,4)\n",
      "3rd Connect success!11\n",
      "video INSERT INTO data(id,time,movement_avg,movement_std,NNI_avg,NNI_std) VALUES(10,%s,1,2,3,4)\n",
      "3rd Connect success!11\n",
      "video INSERT INTO data(id,time,movement_avg,movement_std,NNI_avg,NNI_std) VALUES(10,%s,1,2,3,4)\n",
      "3rd Connect success!11\n",
      "video INSERT INTO data(id,time,movement_avg,movement_std,NNI_avg,NNI_std) VALUES(10,%s,1,2,3,4)\n",
      "3rd Connect success!11\n",
      "video INSERT INTO data(id,time,movement_avg,movement_std,NNI_avg,NNI_std) VALUES(10,%s,1,2,3,4)\n",
      "3rd Connect success!11\n",
      "video INSERT INTO data(id,time,movement_avg,movement_std,NNI_avg,NNI_std) VALUES(10,%s,1,2,3,4)\n",
      "3rd Connect success!11\n",
      "video INSERT INTO data(id,time,movement_avg,movement_std,NNI_avg,NNI_std) VALUES(10,%s,1,2,3,4)\n",
      "3rd Connect success!11\n",
      "video INSERT INTO data(id,time,movement_avg,movement_std,NNI_avg,NNI_std) VALUES(10,%s,1,2,3,4)\n",
      "3rd Connect success!11\n",
      "video INSERT INTO data(id,time,movement_avg,movement_std,NNI_avg,NNI_std) VALUES(10,%s,1,2,3,4)\n",
      "3rd Connect success!11\n",
      "video INSERT INTO data(id,time,movement_avg,movement_std,NNI_avg,NNI_std) VALUES(10,%s,1,2,3,4)\n",
      "3rd Connect success!11\n",
      "video INSERT INTO data(id,time,movement_avg,movement_std,NNI_avg,NNI_std) VALUES(10,%s,1,2,3,4)\n",
      "3rd Connect success!11\n",
      "video INSERT INTO data(id,time,movement_avg,movement_std,NNI_avg,NNI_std) VALUES(10,%s,1,2,3,4)\n",
      "3rd Connect success!11\n",
      "video INSERT INTO data(id,time,movement_avg,movement_std,NNI_avg,NNI_std) VALUES(10,%s,1,2,3,4)\n",
      "3rd Connect success!11\n",
      "video INSERT INTO data(id,time,movement_avg,movement_std,NNI_avg,NNI_std) VALUES(10,%s,1,2,3,4)\n",
      "3rd Connect success!11\n",
      "video INSERT INTO data(id,time,movement_avg,movement_std,NNI_avg,NNI_std) VALUES(10,%s,1,2,3,4)\n",
      "3rd Connect success!11\n",
      "video INSERT INTO data(id,time,movement_avg,movement_std,NNI_avg,NNI_std) VALUES(10,%s,1,2,3,4)\n",
      "3rd Connect success!11\n",
      "video INSERT INTO data(id,time,movement_avg,movement_std,NNI_avg,NNI_std) VALUES(10,%s,1,2,3,4)\n",
      "3rd Connect success!11\n",
      "video INSERT INTO data(id,time,movement_avg,movement_std,NNI_avg,NNI_std) VALUES(10,%s,1,2,3,4)\n",
      "3rd Connect success!11\n",
      "video INSERT INTO data(id,time,movement_avg,movement_std,NNI_avg,NNI_std) VALUES(10,%s,1,2,3,4)\n",
      "3rd Connect success!11\n",
      "video INSERT INTO data(id,time,movement_avg,movement_std,NNI_avg,NNI_std) VALUES(10,%s,1,2,3,4)\n",
      "3rd Connect success!11\n",
      "video INSERT INTO data(id,time,movement_avg,movement_std,NNI_avg,NNI_std) VALUES(10,%s,1,2,3,4)\n",
      "3rd Connect success!11\n",
      "video INSERT INTO data(id,time,movement_avg,movement_std,NNI_avg,NNI_std) VALUES(10,%s,1,2,3,4)\n",
      "3rd Connect success!11\n",
      "video INSERT INTO data(id,time,movement_avg,movement_std,NNI_avg,NNI_std) VALUES(10,%s,1,2,3,4)\n",
      "3rd Connect success!11\n",
      "video INSERT INTO data(id,time,movement_avg,movement_std,NNI_avg,NNI_std) VALUES(10,%s,1,2,3,4)\n"
     ]
    }
   ],
   "source": [
    "input_video_dir = \"/workspace/nas-data/Animal/chicken_video/20211104\"\n",
    "videos = {}\n",
    "for rpi in os.listdir(input_video_dir):\n",
    "    rpi_path = os.path.join(input_video_dir, rpi)\n",
    "    if os.path.isdir(rpi_path):\n",
    "        for video in os.listdir(rpi_path):\n",
    "            video_path = os.path.join(rpi_path, video)\n",
    "            if rpi in videos:\n",
    "                videos[rpi].append(video_path)\n",
    "            else:\n",
    "                videos[rpi] = [video_path]\n",
    "vid_date = os.path.basename(input_video_dir)\n",
    "for rpi in videos:\n",
    "    rpi_num = re.search(r\"\\d+(\\.\\d+)?\", rpi)\n",
    "    print(rpi)\n",
    "    if rpi != 'rpi10':\n",
    "        continue\n",
    "    try:\n",
    "        conn.ping()\n",
    "        print('2nd Connect success!')\n",
    "    except:\n",
    "        print('2nd Connect fail!')\n",
    "        conn = pymysql.connect(host='top-view-database.barrysmall-personal', user='chicken', password='chicken_mysql', db='chicken_chart')\n",
    "        cur = conn.cursor()\n",
    "        print('2nd Connect success!')\n",
    "    fake_time_str = vid_date + ' ' +'05:50:00'\n",
    "    fake_time = datetime.strptime(fake_time_str, '%Y%m%d %H:%M:%S')\n",
    "    insert_sql = 'INSERT INTO data(id,time,movement_avg,movement_std,NNI_avg,NNI_std) VALUES({}, %s, 0 , 0, 0, 0)'.format(int(rpi_num.group(0)))\n",
    "    cur.execute(insert_sql, [str(fake_time)])\n",
    "    conn.commit()\n",
    "    fake_time_str2 = vid_date + ' ' +'18:50:00'\n",
    "    fake_time2 = datetime.strptime(fake_time_str2, '%Y%m%d %H:%M:%S')\n",
    "    insert_sql2 = 'INSERT INTO data(id,time,movement_avg,movement_std,NNI_avg,NNI_std) VALUES({}, %s, 0, 0, 0, 0)'.format(int(rpi_num.group(0)))\n",
    "    cur.execute(insert_sql, [str(fake_time2)])\n",
    "    conn.commit()\n",
    "    conn.close()\n",
    "    print('21221', insert_sql2)\n",
    "    for video in videos[rpi]:\n",
    "        try:\n",
    "            conn.ping()\n",
    "            print('3rd Connect success!')\n",
    "        except:\n",
    "            print('3rd Connect fail!')\n",
    "            conn = pymysql.connect(host='top-view-database.barrysmall-personal', user='chicken', password='chicken_mysql', db='chicken_chart')\n",
    "            cur = conn.cursor()\n",
    "            print('3rd Connect success!')\n",
    "        read_hms = os.path.basename(video)\n",
    "        today_time = vid_date + ' ' + read_hms[0:8]\n",
    "        base_time = datetime.strptime(today_time, '%Y%m%d %H-%M-%S')\n",
    "        move_avg = 1;move_std = 2;nni_avg = 3;nni_std = 4\n",
    "        insert_sql = 'INSERT INTO data(id,time,movement_avg,movement_std,NNI_avg,NNI_std) VALUES({},%s,{},{},{},{})'.format(int(rpi_num.group(0)),move_avg,move_std,nni_avg,nni_std)\n",
    "        cur.execute(insert_sql,[str(base_time)])\n",
    "        conn.commit()\n",
    "        conn.close()\n",
    "        print('video', insert_sql)"
   ]
  },
  {
   "cell_type": "code",
   "execution_count": 4,
   "id": "3cc9fd19-1ace-4f6f-bd35-64224f45bb71",
   "metadata": {
    "ExecuteTime": {
     "end_time": "2022-02-10T03:49:59.555916Z",
     "start_time": "2022-02-10T03:49:57.520556Z"
    }
   },
   "outputs": [
    {
     "name": "stdout",
     "output_type": "stream",
     "text": [
      "[INFO] loading YOLO from disk...\n"
     ]
    }
   ],
   "source": [
    "yolo_dir = \"./yolo\"\n",
    "# derive the paths to the YOLO weights and model configuration\n",
    "weightsPath = os.path.sep.join([yolo_dir, \"yolov4-tiny-chicken_best.weights\"])\n",
    "configPath = os.path.sep.join([yolo_dir, \"yolov4-tiny-chicken.cfg\"])\n",
    "\n",
    "# load our YOLO object detector trained on COCO dataset (80 classes)\n",
    "# and determine only the *output* layer names that we need from YOLO\n",
    "print(\"[INFO] loading YOLO from disk...\")\n",
    "net = cv2.dnn.readNetFromDarknet(configPath, weightsPath)\n",
    "net.setPreferableBackend(cv2.dnn.DNN_BACKEND_CUDA)\n",
    "net.setPreferableTarget(cv2.dnn.DNN_TARGET_CUDA)\n",
    "ln = net.getLayerNames()\n",
    "ln = [ln[i[0] - 1] for i in net.getUnconnectedOutLayers()]"
   ]
  },
  {
   "cell_type": "code",
   "execution_count": 19,
   "id": "beba7372-2f41-4c10-b657-b8df68a81ae7",
   "metadata": {
    "ExecuteTime": {
     "end_time": "2022-02-11T13:26:56.773593Z",
     "start_time": "2022-02-11T13:26:36.437138Z"
    }
   },
   "outputs": [],
   "source": [
    "# start1=time.time()\n",
    "# vs2 = cv2.cudacodec.createVideoReader('/workspace/nas-data/Animal/chicken_video/run_video/20211105/rpi5/06-00-01.avi')\n",
    "# end1=time.time()\n",
    "# start=time.time()\n",
    "vs = cv2.VideoCapture('/workspace/nas-data/Animal/chicken_video/run_video/20211105/rpi5/06-05-05.avi')\n",
    "# end=time.time()\n",
    "framess = []\n",
    "# (grabbed, frame) = vs.read()\n",
    "i=0\n",
    "# print(grabbed)\n",
    "start_time = time.time()\n",
    "while vs.isOpened():\n",
    "    grabbed, frame = vs.read()\n",
    "    if not grabbed:\n",
    "        break\n",
    "    framess.append(frame)\n",
    "#     if i == 100:\n",
    "#     frame = cv2.resize(frame, (416,416))\n",
    "    blob = cv2.dnn.blobFromImage(frame, 1 / 255.0, (416, 416), swapRB=True, crop=False)\n",
    "    #     print(blob.shape)\n",
    "    net.setInput(blob)\n",
    "    layerOutputs = net.forward(ln)\n",
    "    #     print(layerOutputs)\n",
    "    #cv2.imshow('d', frame)\n",
    "end_time = time.time()\n",
    "\n",
    "#     if i == 10:\n",
    "#         start = time.time()\n",
    "# #         frame = cv2.resize(frame, (416,416))\n",
    "#         blob = cv2.dnn.blobFromImage(frame, 1 / 255.0, (416, 416), swapRB=True, crop=False)\n",
    "#         #     print(blob.shape)\n",
    "#         net.setInput(blob)\n",
    "#         layerOutputs = net.forward(ln)\n",
    "#         #     print(layerOutputs)\n",
    "#         end = time.time()\n",
    "#     framess.append(frame)\n",
    "#     i+=1\n",
    "vs.release()"
   ]
  },
  {
   "cell_type": "code",
   "execution_count": 20,
   "id": "25dc630e",
   "metadata": {
    "ExecuteTime": {
     "end_time": "2022-02-11T13:26:56.779007Z",
     "start_time": "2022-02-11T13:26:56.775898Z"
    }
   },
   "outputs": [
    {
     "name": "stdout",
     "output_type": "stream",
     "text": [
      "add resize 19.920881032943726\n"
     ]
    }
   ],
   "source": [
    "print('add resize', (end_time-start_time))"
   ]
  },
  {
   "cell_type": "code",
   "execution_count": null,
   "id": "ba40d995",
   "metadata": {
    "ExecuteTime": {
     "start_time": "2022-02-11T13:28:48.039Z"
    }
   },
   "outputs": [],
   "source": [
    "start=time.time()\n",
    "blobss = cv2.dnn.blobFromImages(framess, 1 / 255.0, (416, 416), swapRB=True, crop=False)\n",
    "net.setInput(blobss)\n",
    "mutilayerOutputs = net.forward(ln)\n",
    "end=time.time()"
   ]
  },
  {
   "cell_type": "code",
   "execution_count": null,
   "id": "21d0801b-cd97-4786-837a-41f817b1c7c1",
   "metadata": {
    "ExecuteTime": {
     "start_time": "2022-02-11T13:28:48.514Z"
    }
   },
   "outputs": [],
   "source": [
    "print('add resize', (end-start))"
   ]
  },
  {
   "cell_type": "code",
   "execution_count": 9,
   "id": "842a5d13-7a1a-4e41-8fde-b37f1e8edd6d",
   "metadata": {
    "ExecuteTime": {
     "end_time": "2022-02-10T03:51:57.985629Z",
     "start_time": "2022-02-10T03:51:50.938000Z"
    }
   },
   "outputs": [
    {
     "ename": "error",
     "evalue": "OpenCV(4.5.3) /workspace/opencv/modules/imgproc/src/resize.cpp:4051: error: (-215:Assertion failed) !ssize.empty() in function 'resize'\n",
     "output_type": "error",
     "traceback": [
      "\u001b[0;31m---------------------------------------------------------------------------\u001b[0m",
      "\u001b[0;31merror\u001b[0m                                     Traceback (most recent call last)",
      "\u001b[0;32m<ipython-input-9-2a3150553bac>\u001b[0m in \u001b[0;36m<module>\u001b[0;34m\u001b[0m\n\u001b[0;32m----> 1\u001b[0;31m \u001b[0mblobss\u001b[0m \u001b[0;34m=\u001b[0m \u001b[0mcv2\u001b[0m\u001b[0;34m.\u001b[0m\u001b[0mdnn\u001b[0m\u001b[0;34m.\u001b[0m\u001b[0mblobFromImages\u001b[0m\u001b[0;34m(\u001b[0m\u001b[0mframess\u001b[0m\u001b[0;34m,\u001b[0m \u001b[0;36m1\u001b[0m \u001b[0;34m/\u001b[0m \u001b[0;36m255.0\u001b[0m\u001b[0;34m,\u001b[0m \u001b[0;34m(\u001b[0m\u001b[0;36m416\u001b[0m\u001b[0;34m,\u001b[0m \u001b[0;36m416\u001b[0m\u001b[0;34m)\u001b[0m\u001b[0;34m,\u001b[0m \u001b[0mswapRB\u001b[0m\u001b[0;34m=\u001b[0m\u001b[0;32mTrue\u001b[0m\u001b[0;34m,\u001b[0m \u001b[0mcrop\u001b[0m\u001b[0;34m=\u001b[0m\u001b[0;32mFalse\u001b[0m\u001b[0;34m)\u001b[0m\u001b[0;34m\u001b[0m\u001b[0;34m\u001b[0m\u001b[0m\n\u001b[0m\u001b[1;32m      2\u001b[0m \u001b[0mnet\u001b[0m\u001b[0;34m.\u001b[0m\u001b[0msetInput\u001b[0m\u001b[0;34m(\u001b[0m\u001b[0mblobss\u001b[0m\u001b[0;34m)\u001b[0m\u001b[0;34m\u001b[0m\u001b[0;34m\u001b[0m\u001b[0m\n\u001b[1;32m      3\u001b[0m \u001b[0mlayerOutputs\u001b[0m \u001b[0;34m=\u001b[0m \u001b[0mnet\u001b[0m\u001b[0;34m.\u001b[0m\u001b[0mforward\u001b[0m\u001b[0;34m(\u001b[0m\u001b[0mln\u001b[0m\u001b[0;34m)\u001b[0m\u001b[0;34m\u001b[0m\u001b[0;34m\u001b[0m\u001b[0m\n",
      "\u001b[0;31merror\u001b[0m: OpenCV(4.5.3) /workspace/opencv/modules/imgproc/src/resize.cpp:4051: error: (-215:Assertion failed) !ssize.empty() in function 'resize'\n"
     ]
    }
   ],
   "source": []
  },
  {
   "cell_type": "code",
   "execution_count": 16,
   "id": "532209e7",
   "metadata": {
    "ExecuteTime": {
     "end_time": "2022-02-11T13:25:11.823855Z",
     "start_time": "2022-02-11T13:25:11.704931Z"
    }
   },
   "outputs": [
    {
     "ename": "NameError",
     "evalue": "name 'start' is not defined",
     "output_type": "error",
     "traceback": [
      "\u001b[0;31m---------------------------------------------------------------------------\u001b[0m",
      "\u001b[0;31mNameError\u001b[0m                                 Traceback (most recent call last)",
      "\u001b[0;32m<ipython-input-16-31a8a126ef30>\u001b[0m in \u001b[0;36m<module>\u001b[0;34m\u001b[0m\n\u001b[1;32m     19\u001b[0m                                 swapRB=True, crop=False)\n\u001b[1;32m     20\u001b[0m \u001b[0mend\u001b[0m \u001b[0;34m=\u001b[0m \u001b[0mtime\u001b[0m\u001b[0;34m.\u001b[0m\u001b[0mtime\u001b[0m\u001b[0;34m(\u001b[0m\u001b[0;34m)\u001b[0m\u001b[0;34m\u001b[0m\u001b[0;34m\u001b[0m\u001b[0m\n\u001b[0;32m---> 21\u001b[0;31m \u001b[0mprint\u001b[0m\u001b[0;34m(\u001b[0m\u001b[0;34m'Resize time:'\u001b[0m\u001b[0;34m,\u001b[0m \u001b[0;36m1\u001b[0m\u001b[0;34m/\u001b[0m\u001b[0;34m(\u001b[0m\u001b[0mend\u001b[0m\u001b[0;34m-\u001b[0m\u001b[0mstart\u001b[0m\u001b[0;34m)\u001b[0m\u001b[0;34m)\u001b[0m\u001b[0;34m\u001b[0m\u001b[0;34m\u001b[0m\u001b[0m\n\u001b[0m",
      "\u001b[0;31mNameError\u001b[0m: name 'start' is not defined"
     ]
    }
   ],
   "source": [
    "\n",
    "\n",
    "while True:\n",
    "    # read the next frame from the file\n",
    "\n",
    "    (grabbed, frame) = vs.read()\n",
    "    # if the frame was not grabbed, then we have reached the end\n",
    "    # of the stream\n",
    "    if not grabbed:\n",
    "        break\n",
    "    #frame = cv2.resize(frame, (640,480))\n",
    "    # if the frame dimensions are empty, grab them\n",
    "    if W is None or H is None:\n",
    "        (H, W) = frame.shape[:2]\n",
    "\n",
    "    # construct a blob from the input frame and then perform a forward\n",
    "    # pass of the YOLO object detector, giving us our bounding boxes\n",
    "    # and associated probabilities\n",
    "    start = time.time()\n",
    "    blob = cv2.dnn.blobFromImage(frame, 1 / 255.0, (416, 416),\n",
    "                                swapRB=True, crop=False)\n",
    "end = time.time()\n",
    "print('Resize time:', 1/(end-start))"
   ]
  },
  {
   "cell_type": "code",
   "execution_count": 14,
   "id": "dd98ceec-8eef-4294-9cbf-e51f5864f87b",
   "metadata": {
    "ExecuteTime": {
     "end_time": "2022-02-10T03:52:56.744022Z",
     "start_time": "2022-02-10T03:52:56.740363Z"
    }
   },
   "outputs": [
    {
     "data": {
      "text/plain": [
       "(2028, 6)"
      ]
     },
     "execution_count": 14,
     "metadata": {},
     "output_type": "execute_result"
    }
   ],
   "source": [
    "layerOutputs[1].shape"
   ]
  },
  {
   "cell_type": "code",
   "execution_count": 8,
   "id": "29a4369b-d482-4c7d-839d-43b741ce3ec3",
   "metadata": {
    "ExecuteTime": {
     "end_time": "2022-02-10T03:51:23.427465Z",
     "start_time": "2022-02-10T03:51:23.407600Z"
    }
   },
   "outputs": [
    {
     "ename": "NameError",
     "evalue": "name 'blobss' is not defined",
     "output_type": "error",
     "traceback": [
      "\u001b[0;31m---------------------------------------------------------------------------\u001b[0m",
      "\u001b[0;31mNameError\u001b[0m                                 Traceback (most recent call last)",
      "\u001b[0;32m<ipython-input-8-18a657877497>\u001b[0m in \u001b[0;36m<module>\u001b[0;34m\u001b[0m\n\u001b[0;32m----> 1\u001b[0;31m \u001b[0mblobss\u001b[0m\u001b[0;34m.\u001b[0m\u001b[0mshape\u001b[0m\u001b[0;34m\u001b[0m\u001b[0;34m\u001b[0m\u001b[0m\n\u001b[0m",
      "\u001b[0;31mNameError\u001b[0m: name 'blobss' is not defined"
     ]
    }
   ],
   "source": [
    "blobss.shape"
   ]
  },
  {
   "cell_type": "code",
   "execution_count": 5,
   "id": "d8cd36be-7805-4714-9bbd-08ac8fab770e",
   "metadata": {},
   "outputs": [
    {
     "ename": "AttributeError",
     "evalue": "module 'cv2.cuda' has no attribute 'cuda_GpuMat'",
     "output_type": "error",
     "traceback": [
      "\u001b[0;31m---------------------------------------------------------------------------\u001b[0m",
      "\u001b[0;31mAttributeError\u001b[0m                            Traceback (most recent call last)",
      "\u001b[0;32m<ipython-input-5-2f9bedc8e7ac>\u001b[0m in \u001b[0;36m<module>\u001b[0;34m\u001b[0m\n\u001b[0;32m----> 1\u001b[0;31m \u001b[0mgpu_frame\u001b[0m \u001b[0;34m=\u001b[0m \u001b[0mcv2\u001b[0m\u001b[0;34m.\u001b[0m\u001b[0mcuda\u001b[0m\u001b[0;34m.\u001b[0m\u001b[0mcuda_GpuMat\u001b[0m\u001b[0;34m(\u001b[0m\u001b[0;34m)\u001b[0m\u001b[0;34m\u001b[0m\u001b[0;34m\u001b[0m\u001b[0m\n\u001b[0m",
      "\u001b[0;31mAttributeError\u001b[0m: module 'cv2.cuda' has no attribute 'cuda_GpuMat'"
     ]
    }
   ],
   "source": [
    "gpu_frame = cv2.cuda.cuda_GpuMat()"
   ]
  },
  {
   "cell_type": "code",
   "execution_count": 5,
   "id": "321274de-49ae-4cd0-bdc8-6c57d2451f55",
   "metadata": {},
   "outputs": [],
   "source": [
    "gpu_frame.upload(frame)"
   ]
  },
  {
   "cell_type": "code",
   "execution_count": 1,
   "id": "13603ebd-7630-486d-8d00-cfdfdf2e2d8b",
   "metadata": {},
   "outputs": [
    {
     "ename": "NameError",
     "evalue": "name 'cv2' is not defined",
     "output_type": "error",
     "traceback": [
      "\u001b[0;31m---------------------------------------------------------------------------\u001b[0m",
      "\u001b[0;31mNameError\u001b[0m                                 Traceback (most recent call last)",
      "\u001b[0;32m<ipython-input-1-d2e8bc0fff9a>\u001b[0m in \u001b[0;36m<module>\u001b[0;34m\u001b[0m\n\u001b[0;32m----> 1\u001b[0;31m \u001b[0mscreenshot\u001b[0m \u001b[0;34m=\u001b[0m \u001b[0mcv2\u001b[0m\u001b[0;34m.\u001b[0m\u001b[0mcuda\u001b[0m\u001b[0;34m.\u001b[0m\u001b[0mresize\u001b[0m\u001b[0;34m(\u001b[0m\u001b[0mframe\u001b[0m\u001b[0;34m,\u001b[0m \u001b[0;34m(\u001b[0m\u001b[0;36m200\u001b[0m\u001b[0;34m,\u001b[0m \u001b[0;36m200\u001b[0m\u001b[0;34m)\u001b[0m\u001b[0;34m)\u001b[0m\u001b[0;34m\u001b[0m\u001b[0;34m\u001b[0m\u001b[0m\n\u001b[0m",
      "\u001b[0;31mNameError\u001b[0m: name 'cv2' is not defined"
     ]
    }
   ],
   "source": [
    "screenshot = cv2.cuda.resize(frame, (200, 200))"
   ]
  },
  {
   "cell_type": "code",
   "execution_count": null,
   "id": "944cdce2-d841-4fee-9329-e8b79083a0ee",
   "metadata": {},
   "outputs": [],
   "source": []
  }
 ],
 "metadata": {
  "kernelspec": {
   "display_name": "Python 3",
   "language": "python",
   "name": "python3"
  },
  "language_info": {
   "codemirror_mode": {
    "name": "ipython",
    "version": 3
   },
   "file_extension": ".py",
   "mimetype": "text/x-python",
   "name": "python",
   "nbconvert_exporter": "python",
   "pygments_lexer": "ipython3",
   "version": "3.8.10"
  },
  "toc": {
   "base_numbering": 1,
   "nav_menu": {},
   "number_sections": false,
   "sideBar": true,
   "skip_h1_title": false,
   "title_cell": "Table of Contents",
   "title_sidebar": "Contents",
   "toc_cell": false,
   "toc_position": {},
   "toc_section_display": true,
   "toc_window_display": false
  }
 },
 "nbformat": 4,
 "nbformat_minor": 5
}
